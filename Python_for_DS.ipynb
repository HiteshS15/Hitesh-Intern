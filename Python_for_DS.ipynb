{
  "nbformat": 4,
  "nbformat_minor": 0,
  "metadata": {
    "colab": {
      "provenance": [],
      "authorship_tag": "ABX9TyNZPBweF+6hC6GOj3UHUzWz",
      "include_colab_link": true
    },
    "kernelspec": {
      "name": "python3",
      "display_name": "Python 3"
    },
    "language_info": {
      "name": "python"
    }
  },
  "cells": [
    {
      "cell_type": "markdown",
      "metadata": {
        "id": "view-in-github",
        "colab_type": "text"
      },
      "source": [
        "<a href=\"https://colab.research.google.com/github/HiteshS15/Hitesh-Intern/blob/main/Python_for_DS.ipynb\" target=\"_parent\"><img src=\"https://colab.research.google.com/assets/colab-badge.svg\" alt=\"Open In Colab\"/></a>"
      ]
    },
    {
      "cell_type": "markdown",
      "source": [
        "\n",
        "#Tuples\n",
        "Tuples are expressed as comma-separated elements within parentheses.\n",
        "\n"
      ],
      "metadata": {
        "id": "0bLdD8Cin63O"
      }
    },
    {
      "cell_type": "code",
      "execution_count": null,
      "metadata": {
        "id": "H3p4cew9TZue"
      },
      "outputs": [],
      "source": [
        "\n",
        "tuple=(1,2,3,4,5,6)"
      ]
    },
    {
      "cell_type": "code",
      "source": [
        "tuple1=(\"hi\",15,5.0)\n",
        "print(tuple1[0])\n",
        "print(tuple1[1])\n",
        "print(tuple1[2])"
      ],
      "metadata": {
        "colab": {
          "base_uri": "https://localhost:8080/"
        },
        "id": "-24z7fO3VvLz",
        "outputId": "f43adc7d-07b0-4141-9ccd-0ae86407ba3e"
      },
      "execution_count": null,
      "outputs": [
        {
          "output_type": "stream",
          "name": "stdout",
          "text": [
            "hi\n",
            "15\n",
            "5.0\n"
          ]
        }
      ]
    },
    {
      "cell_type": "markdown",
      "source": [
        "#Lists\n",
        "A list is represented with square brackets.\n",
        "Lists can contain strings, floats, integers.\n"
      ],
      "metadata": {
        "id": "bcPyewYUosjL"
      }
    },
    {
      "cell_type": "code",
      "source": [
        "\n",
        "list=[\"hello\",15,5.0]\n",
        "print(list)\n"
      ],
      "metadata": {
        "colab": {
          "base_uri": "https://localhost:8080/"
        },
        "id": "93pyixbwYi1c",
        "outputId": "18da9777-f2a1-4401-bc9c-47c212427e1a"
      },
      "execution_count": null,
      "outputs": [
        {
          "output_type": "stream",
          "name": "stdout",
          "text": [
            "['hello', 15, 5.0]\n"
          ]
        }
      ]
    },
    {
      "cell_type": "code",
      "source": [
        "list=[\"hello\",15,5.0]\n",
        "print(list[0])\n",
        "print(list[1])\n",
        "print(list[2])\n",
        "\n",
        "#slicing in list\n",
        "print(list[0:2])"
      ],
      "metadata": {
        "colab": {
          "base_uri": "https://localhost:8080/"
        },
        "id": "Si5VX7FZZVSB",
        "outputId": "d58d60f2-3313-45e6-fcd5-da5cd08dcd50"
      },
      "execution_count": null,
      "outputs": [
        {
          "output_type": "stream",
          "name": "stdout",
          "text": [
            "hello\n",
            "15\n",
            "5.0\n",
            "['hello', 15]\n"
          ]
        }
      ]
    },
    {
      "cell_type": "code",
      "source": [
        "#List is Mutable we can extend or add the elemnts\n",
        "L=[\"hello\",23,15]\n",
        "L.extend([\"pop\",15])\n",
        "print(L)"
      ],
      "metadata": {
        "colab": {
          "base_uri": "https://localhost:8080/"
        },
        "id": "b7OvP295akv8",
        "outputId": "d822d524-4ba0-4aaf-b023-3397068ae830"
      },
      "execution_count": null,
      "outputs": [
        {
          "output_type": "stream",
          "name": "stdout",
          "text": [
            "['hello', 23, 15, 'pop', 15]\n"
          ]
        }
      ]
    },
    {
      "cell_type": "code",
      "source": [
        "#delet function in list to delete elements in list\n",
        "L=[\"hello\",23,15]\n",
        "del(L[0])\n",
        "print(L)"
      ],
      "metadata": {
        "colab": {
          "base_uri": "https://localhost:8080/"
        },
        "id": "pkgM57rfciZP",
        "outputId": "132c5105-2363-44ef-92ef-36358b31b10f"
      },
      "execution_count": null,
      "outputs": [
        {
          "output_type": "stream",
          "name": "stdout",
          "text": [
            "[23, 15]\n"
          ]
        }
      ]
    },
    {
      "cell_type": "code",
      "source": [
        "# split function in list to splits the element in list\n",
        "L=[\"ABCD\",23,15]\n",
        "\"ABCD\".split(\",\")\n",
        "print(L)\n",
        "\n"
      ],
      "metadata": {
        "colab": {
          "base_uri": "https://localhost:8080/"
        },
        "id": "58R5oty4ee47",
        "outputId": "3ec66941-b41d-4b81-ba91-abb41c095ad3"
      },
      "execution_count": null,
      "outputs": [
        {
          "output_type": "stream",
          "name": "stdout",
          "text": [
            "['ABCD', 23, 15]\n"
          ]
        }
      ]
    },
    {
      "cell_type": "markdown",
      "source": [
        "\n",
        "#sets\n",
        "sets only contain particular elements only in sets\n",
        "\n",
        "\n",
        "\n"
      ],
      "metadata": {
        "id": "hlr3-hE5pCF2"
      }
    },
    {
      "cell_type": "code",
      "source": [
        "\n",
        "#adding of element in set\n",
        "set={\"hello\",\"Hi\",\"red\",\"blue\"}\n",
        "set.add(\"hitesh\")\n",
        "print(set)"
      ],
      "metadata": {
        "colab": {
          "base_uri": "https://localhost:8080/"
        },
        "id": "IJlJamy_rYvB",
        "outputId": "e04c1087-2cd2-48d5-9497-145be13ce38d"
      },
      "execution_count": null,
      "outputs": [
        {
          "output_type": "stream",
          "name": "stdout",
          "text": [
            "{'hitesh', 'hello', 'red', 'blue', 'Hi'}\n"
          ]
        }
      ]
    },
    {
      "cell_type": "code",
      "source": [
        "#remove method in sets using remove function\n",
        "set={\"hello\",\"Hi\",\"red\",\"blue\"}\n",
        "set.remove(\"hello\")\n",
        "print(set)"
      ],
      "metadata": {
        "colab": {
          "base_uri": "https://localhost:8080/"
        },
        "id": "Iv9k3CBKtdMg",
        "outputId": "d12ed745-b4ba-476a-b9e5-96f800f6667f"
      },
      "execution_count": null,
      "outputs": [
        {
          "output_type": "stream",
          "name": "stdout",
          "text": [
            "{'Hi', 'red', 'blue'}\n"
          ]
        }
      ]
    },
    {
      "cell_type": "code",
      "source": [
        "#set operations using in\n",
        "set={\"hello\",\"Hi\",\"red\",\"blue\"}\n",
        "print(\"hello\" in set)\n",
        "print(\"hitesh\" in set)"
      ],
      "metadata": {
        "colab": {
          "base_uri": "https://localhost:8080/"
        },
        "id": "WlH5vgu1uD4v",
        "outputId": "86837e2d-a3d3-4b3b-9db7-0be77eda4735"
      },
      "execution_count": null,
      "outputs": [
        {
          "output_type": "stream",
          "name": "stdout",
          "text": [
            "True\n",
            "False\n"
          ]
        }
      ]
    },
    {
      "cell_type": "markdown",
      "source": [
        "#Dictionaries\n",
        "in this uses curly brackets\n",
        "\n",
        "The keys are the first elements they must in be immutable and unique. Each key is followed by a value separated by colon\n",
        " each keys have seperate values"
      ],
      "metadata": {
        "id": "3Z3Q4TuFpbe6"
      }
    },
    {
      "cell_type": "code",
      "source": [
        "\n",
        "dict1={\"key1\":15,\"key2\":14,\"key3\":13}\n",
        "print(dict1[\"key1\"])\n",
        "print(dict1[\"key2\"])\n",
        "print(dict1[\"key3\"])"
      ],
      "metadata": {
        "colab": {
          "base_uri": "https://localhost:8080/"
        },
        "id": "-qCbUfXKxn4-",
        "outputId": "c5cb132f-df58-4cda-b4b0-d2d49135d28a"
      },
      "execution_count": null,
      "outputs": [
        {
          "output_type": "stream",
          "name": "stdout",
          "text": [
            "15\n",
            "14\n",
            "13\n"
          ]
        }
      ]
    },
    {
      "cell_type": "code",
      "source": [
        "#using delete in dictionaries\n",
        "dict1={\"key1\":15,\"key2\":14,\"key3\":13}\n",
        "del(dict1[\"key1\"])\n",
        "del(dict1[\"key2\"])\n",
        "print(dict1[\"key3\"])"
      ],
      "metadata": {
        "colab": {
          "base_uri": "https://localhost:8080/"
        },
        "id": "M1QqQobe0J9f",
        "outputId": "b56a2142-2a29-4411-b3a6-78efd6571cce"
      },
      "execution_count": null,
      "outputs": [
        {
          "output_type": "stream",
          "name": "stdout",
          "text": [
            "13\n"
          ]
        }
      ]
    },
    {
      "cell_type": "code",
      "source": [
        "# using in method to check in dictionaries\n",
        "dict1={\"key1\":15,\"key2\":14,\"key3\":13}\n",
        "print(\"key1\" in dict1)\n",
        "print(\"key4\" in dict1)"
      ],
      "metadata": {
        "colab": {
          "base_uri": "https://localhost:8080/"
        },
        "id": "KOvWY35V0eVG",
        "outputId": "c9b40d49-6fee-452c-b9af-6c90b42574e8"
      },
      "execution_count": null,
      "outputs": [
        {
          "output_type": "stream",
          "name": "stdout",
          "text": [
            "True\n",
            "False\n"
          ]
        }
      ]
    },
    {
      "cell_type": "markdown",
      "source": [
        "#Operators in Python\n",
        "\n",
        "#Arithmetic Operators\n",
        "\n",
        "\n",
        "Addition(+)\n",
        "\n",
        "Subraction(-)\n",
        "\n",
        "Multiplication(*)\n",
        "\n",
        "Division(\\)\n",
        "\n",
        "Modulus(%) : it will give reminder\n",
        "\n",
        "Floor Division(//) : The result is floored to nearst smallest integer\n",
        "\n",
        "Too the power(**) : to the power accepts two values base & value  "
      ],
      "metadata": {
        "id": "plwa2qEwnkbY"
      }
    },
    {
      "cell_type": "code",
      "source": [
        "a=6\n",
        "b=9\n",
        "c=\"Hi\"\n",
        "d=\"how r u\"\n",
        "print(a+b)\n",
        "print(a*b)\n",
        "print(a-b)\n",
        "print(a/b)\n",
        "print(a%b)\n",
        "print(a//b)\n",
        "print(a**b)\n",
        "print(c+d)"
      ],
      "metadata": {
        "colab": {
          "base_uri": "https://localhost:8080/"
        },
        "id": "DAMnYx57p27u",
        "outputId": "4420969f-75c1-49af-adad-97f8ef7dd64d"
      },
      "execution_count": null,
      "outputs": [
        {
          "output_type": "stream",
          "name": "stdout",
          "text": [
            "15\n",
            "54\n",
            "-3\n",
            "0.6666666666666666\n",
            "6\n",
            "0\n",
            "10077696\n",
            "Hihow r u\n"
          ]
        }
      ]
    },
    {
      "cell_type": "markdown",
      "source": [
        "#Comparision Operators\n",
        "\n",
        "== Equals to\n",
        "\n",
        "!= Not Equals to\n",
        "\n",
        "'>'  Greater than\n",
        "\n",
        "'<'  Lesser Than\n",
        "\n",
        "'>=' Greater than or equal to\n",
        "\n",
        "'<=' Lesser than or equal to"
      ],
      "metadata": {
        "id": "hdVpK7onqeJ1"
      }
    },
    {
      "cell_type": "code",
      "source": [
        "a=6\n",
        "b=9\n",
        "print(a==b)\n",
        "print(a<b)\n",
        "print(a>b)\n",
        "print(a!=b)\n",
        "print(a>=b)\n",
        "print(a<=b)"
      ],
      "metadata": {
        "colab": {
          "base_uri": "https://localhost:8080/"
        },
        "id": "iHjMC57ErLoZ",
        "outputId": "3cac5fc4-0bd8-479c-a649-93cc50425414"
      },
      "execution_count": null,
      "outputs": [
        {
          "output_type": "stream",
          "name": "stdout",
          "text": [
            "False\n",
            "True\n",
            "False\n",
            "True\n",
            "False\n",
            "True\n"
          ]
        }
      ]
    },
    {
      "cell_type": "markdown",
      "source": [
        "#Assignment Operator\n",
        "\n",
        "=  ,\n",
        " -=  ,\n",
        " +=  ,\n",
        " /=  ,\n",
        " *=  ,"
      ],
      "metadata": {
        "id": "dVKuM4pTrUdX"
      }
    },
    {
      "cell_type": "code",
      "source": [
        "a=6\n",
        "a=a+9\n",
        "print(a)\n",
        "\n",
        "a=a-9\n",
        "print(a)\n",
        "\n",
        "a/=9\n",
        "print(a)\n",
        "\n",
        "a*=9\n",
        "print(a)\n",
        "\n",
        "\n"
      ],
      "metadata": {
        "colab": {
          "base_uri": "https://localhost:8080/"
        },
        "id": "ZyqeDwRZrWfH",
        "outputId": "3c3caee1-bcec-4e85-c634-b33f286077cf"
      },
      "execution_count": null,
      "outputs": [
        {
          "output_type": "stream",
          "name": "stdout",
          "text": [
            "15\n",
            "6\n",
            "0.6666666666666666\n",
            "6.0\n"
          ]
        }
      ]
    },
    {
      "cell_type": "markdown",
      "source": [
        "#Logical Operator\n",
        "\n",
        "and , or , not   :   works in boolean values"
      ],
      "metadata": {
        "id": "2fuejR4GrsEf"
      }
    },
    {
      "cell_type": "code",
      "source": [
        "#and\n",
        "print(False & False)\n",
        "print(True & False)\n",
        "print(False & True)\n",
        "print(True  & True)\n",
        "\n",
        "print(2>3 & 2<3)\n",
        "print(6>9 & 9<6)"
      ],
      "metadata": {
        "colab": {
          "base_uri": "https://localhost:8080/"
        },
        "id": "jqsZEntwrvYY",
        "outputId": "b14084c9-5b54-4f8c-a5cb-3c26b6a1cde0"
      },
      "execution_count": null,
      "outputs": [
        {
          "output_type": "stream",
          "name": "stdout",
          "text": [
            "False\n",
            "False\n",
            "False\n",
            "True\n",
            "False\n",
            "False\n"
          ]
        }
      ]
    },
    {
      "cell_type": "code",
      "source": [
        "#or\n",
        "print(False or False)\n",
        "print(True or False)\n",
        "print(False or True)\n",
        "print(True  or True)\n",
        "\n",
        "print(3>2 or 3<2)\n",
        "print(3>2 or 3>2)\n",
        "print(3<2 or 3<2)"
      ],
      "metadata": {
        "colab": {
          "base_uri": "https://localhost:8080/"
        },
        "id": "TGwDVB9Vr5z9",
        "outputId": "dd0f7653-c32d-4ddf-b9a6-71033efc7cfa"
      },
      "execution_count": null,
      "outputs": [
        {
          "output_type": "stream",
          "name": "stdout",
          "text": [
            "False\n",
            "True\n",
            "True\n",
            "True\n",
            "True\n",
            "True\n",
            "False\n"
          ]
        }
      ]
    },
    {
      "cell_type": "code",
      "source": [
        "#not\n",
        "print(not False)\n",
        "print(not True)\n",
        "\n",
        "print(not(9>6))\n",
        "print(not(9<6))"
      ],
      "metadata": {
        "colab": {
          "base_uri": "https://localhost:8080/"
        },
        "id": "JS08bA65r-41",
        "outputId": "55c0e113-e2d5-4675-8398-56276f13e2cf"
      },
      "execution_count": null,
      "outputs": [
        {
          "output_type": "stream",
          "name": "stdout",
          "text": [
            "True\n",
            "False\n",
            "False\n",
            "True\n"
          ]
        }
      ]
    },
    {
      "cell_type": "markdown",
      "source": [
        "#Special Operator\n",
        "\n",
        "in Operator ,\n",
        "is Operator"
      ],
      "metadata": {
        "id": "tfRXPmmPsFao"
      }
    },
    {
      "cell_type": "code",
      "source": [
        "name = \"Hitu  Hitesh\"\n",
        "\n",
        "print(\"H\" in name)\n",
        "\n",
        "print(\"i\" in name)\n",
        "\n",
        "print(\"utiH\" in name)"
      ],
      "metadata": {
        "colab": {
          "base_uri": "https://localhost:8080/"
        },
        "id": "jFsfVelssI8L",
        "outputId": "722af76a-efb1-4d4a-dcd4-aea231ac7020"
      },
      "execution_count": null,
      "outputs": [
        {
          "output_type": "stream",
          "name": "stdout",
          "text": [
            "True\n",
            "True\n",
            "False\n"
          ]
        }
      ]
    },
    {
      "cell_type": "markdown",
      "source": [
        "#Control Statements\n",
        "\n",
        "if ,\n",
        "else ,  \n",
        "elif\n"
      ],
      "metadata": {
        "id": "12T14r1dsV-S"
      }
    },
    {
      "cell_type": "code",
      "source": [
        "#if\n",
        "age = 18\n",
        "if age == 18:\n",
        "      print(\"u r eligible\")"
      ],
      "metadata": {
        "colab": {
          "base_uri": "https://localhost:8080/"
        },
        "id": "MZ3aHhoxsYUi",
        "outputId": "2b5af814-32b8-434d-9ba6-b18abc2d7fda"
      },
      "execution_count": null,
      "outputs": [
        {
          "output_type": "stream",
          "name": "stdout",
          "text": [
            "u r eligible\n"
          ]
        }
      ]
    },
    {
      "cell_type": "code",
      "source": [
        "#else\n",
        "age = 18\n",
        "if age == 19:\n",
        "      print(\"u r eligible\")\n",
        "else:\n",
        "      print(\"u r not eligible\")"
      ],
      "metadata": {
        "colab": {
          "base_uri": "https://localhost:8080/"
        },
        "id": "2A2fAcfnslCM",
        "outputId": "d9fd1d74-f058-4dd8-d988-f465c4f694e8"
      },
      "execution_count": null,
      "outputs": [
        {
          "output_type": "stream",
          "name": "stdout",
          "text": [
            "u r not eligible\n"
          ]
        }
      ]
    },
    {
      "cell_type": "code",
      "source": [
        "#elif\n",
        "num = int(input())\n",
        "\n",
        "if num > 0:\n",
        "  print(\"positive\")\n",
        "elif num == 0:\n",
        "  print(\"zero\")\n",
        "else:\n",
        "  print(\"Negative\")"
      ],
      "metadata": {
        "colab": {
          "base_uri": "https://localhost:8080/"
        },
        "id": "IbHKYtoBtR2A",
        "outputId": "4d913e23-12c9-4a0b-9cad-99acb960f426"
      },
      "execution_count": null,
      "outputs": [
        {
          "output_type": "stream",
          "name": "stdout",
          "text": [
            "0\n",
            "zero\n"
          ]
        }
      ]
    },
    {
      "cell_type": "markdown",
      "source": [
        "#while loop"
      ],
      "metadata": {
        "id": "1z4hdnPnuFi1"
      }
    },
    {
      "cell_type": "code",
      "source": [
        "#defining\n",
        "i = 1\n",
        "#condition\n",
        "while i<=6:\n",
        "  #print statement\n",
        "      print(\"u r the best\")\n",
        "\n",
        "      i=i+1"
      ],
      "metadata": {
        "colab": {
          "base_uri": "https://localhost:8080/"
        },
        "id": "XqCJLz-PuKoA",
        "outputId": "99d43add-2b34-46a8-9bd8-b91cf85e773b"
      },
      "execution_count": null,
      "outputs": [
        {
          "output_type": "stream",
          "name": "stdout",
          "text": [
            "u r the best\n",
            "u r the best\n",
            "u r the best\n",
            "u r the best\n",
            "u r the best\n",
            "u r the best\n"
          ]
        }
      ]
    },
    {
      "cell_type": "code",
      "source": [
        "i = 1\n",
        "while i <= 10:\n",
        "      print(i,end=\" , \")\n",
        "      i=i+1"
      ],
      "metadata": {
        "colab": {
          "base_uri": "https://localhost:8080/"
        },
        "id": "QI9mJkSnu2uF",
        "outputId": "d4e04757-28e9-4c0d-fba2-fddbbd96283f"
      },
      "execution_count": null,
      "outputs": [
        {
          "output_type": "stream",
          "name": "stdout",
          "text": [
            "1 , 2 , 3 , 4 , 5 , 6 , 7 , 8 , 9 , 10 , "
          ]
        }
      ]
    },
    {
      "cell_type": "markdown",
      "source": [
        "Printing even numbers in given range"
      ],
      "metadata": {
        "id": "2ulIpKY7vL4E"
      }
    },
    {
      "cell_type": "code",
      "source": [
        "\n",
        "#initilization\n",
        "i = 1\n",
        "#condition\n",
        "while i <= 10:\n",
        "      #check for even no\n",
        "      if i % 2 == 0:\n",
        "            print(i,end=\" , \")\n",
        "      i=i+1"
      ],
      "metadata": {
        "colab": {
          "base_uri": "https://localhost:8080/"
        },
        "id": "JlQlHpA2vB03",
        "outputId": "4157b996-774d-4098-dbe0-2eabafd8f42d"
      },
      "execution_count": null,
      "outputs": [
        {
          "output_type": "stream",
          "name": "stdout",
          "text": [
            "2 , 4 , 6 , 8 , 10 , "
          ]
        }
      ]
    },
    {
      "cell_type": "markdown",
      "source": [
        "#For loop\n",
        "\n",
        "iterator iterable & iterable"
      ],
      "metadata": {
        "id": "fvvnNFW8vcA-"
      }
    },
    {
      "cell_type": "code",
      "source": [
        "# i :iterator\n",
        "# range(): iteratable\n",
        "\n",
        "for i in range(1,11):\n",
        "      print(i, end=\",\")\n"
      ],
      "metadata": {
        "colab": {
          "base_uri": "https://localhost:8080/"
        },
        "id": "mCBmXevdvepb",
        "outputId": "5dfc6469-7e80-4969-94f8-2b19ea342550"
      },
      "execution_count": null,
      "outputs": [
        {
          "output_type": "stream",
          "name": "stdout",
          "text": [
            "1,2,3,4,5,6,7,8,9,10,"
          ]
        }
      ]
    },
    {
      "cell_type": "markdown",
      "source": [
        "Print multiplication table"
      ],
      "metadata": {
        "id": "20feEqM-vnvB"
      }
    },
    {
      "cell_type": "code",
      "source": [
        "n = int(input())\n",
        "for i in range(1,11):\n",
        "      print(i*n,end=\",\")"
      ],
      "metadata": {
        "colab": {
          "base_uri": "https://localhost:8080/"
        },
        "id": "bzTcd0xjvrVW",
        "outputId": "7f0b9333-e22d-4eb6-a2a7-87a62759cb7c"
      },
      "execution_count": null,
      "outputs": [
        {
          "output_type": "stream",
          "name": "stdout",
          "text": [
            "10\n",
            "10,20,30,40,50,60,70,80,90,100,"
          ]
        }
      ]
    },
    {
      "cell_type": "markdown",
      "source": [
        "#Break Continue & Pass Statements\n",
        "\n",
        "Break : break the flow of program once this condition is applied\n",
        "\n",
        "Continue : this skips the particular iteration\n",
        "\n",
        "Pass : to avoid syntax error"
      ],
      "metadata": {
        "id": "HeUbY5kxv9eW"
      }
    },
    {
      "cell_type": "code",
      "source": [
        "#pass\n",
        "for i in range(1,11):\n",
        "      pass"
      ],
      "metadata": {
        "id": "TL7fnPpRv_xV"
      },
      "execution_count": null,
      "outputs": []
    },
    {
      "cell_type": "code",
      "source": [
        "#Continue\n",
        "for i in range(1,11):\n",
        "      if i == 5:\n",
        "            continue\n",
        "      print(i,end=\",\")"
      ],
      "metadata": {
        "colab": {
          "base_uri": "https://localhost:8080/"
        },
        "id": "2Hu8STg1wQWe",
        "outputId": "d4de8b00-ea79-490a-c355-13566075b398"
      },
      "execution_count": null,
      "outputs": [
        {
          "output_type": "stream",
          "name": "stdout",
          "text": [
            "1,2,3,4,6,7,8,9,10,"
          ]
        }
      ]
    },
    {
      "cell_type": "code",
      "source": [
        "#break\n",
        "for i in range(1,11):\n",
        "      if i == 5:\n",
        "            break\n",
        "      print(i,end=\",\")"
      ],
      "metadata": {
        "colab": {
          "base_uri": "https://localhost:8080/"
        },
        "id": "ZauAQFwswazF",
        "outputId": "3ca2282c-0a2b-4a57-aca2-60535aebb190"
      },
      "execution_count": null,
      "outputs": [
        {
          "output_type": "stream",
          "name": "stdout",
          "text": [
            "1,2,3,4,"
          ]
        }
      ]
    },
    {
      "cell_type": "markdown",
      "source": [
        "#Functions\n",
        "Functions take some input then produce some output or change.\n",
        "\n",
        "The function is just a piece of code you can reuse."
      ],
      "metadata": {
        "id": "S4jhhToEC3TT"
      }
    },
    {
      "cell_type": "code",
      "source": [
        "#Len Function\n",
        "L=[10,20,30,40,50,60,70,80,90]\n",
        "len(L)"
      ],
      "metadata": {
        "colab": {
          "base_uri": "https://localhost:8080/"
        },
        "id": "buVPMxNVDDaJ",
        "outputId": "78c88d36-4818-4e54-e322-35cd2a32ce2f"
      },
      "execution_count": null,
      "outputs": [
        {
          "output_type": "execute_result",
          "data": {
            "text/plain": [
              "9"
            ]
          },
          "metadata": {},
          "execution_count": 3
        }
      ]
    },
    {
      "cell_type": "code",
      "source": [
        "#sum function\n",
        "L=[10,20,30,40,50,60,70,80,90]\n",
        "sum(L)"
      ],
      "metadata": {
        "colab": {
          "base_uri": "https://localhost:8080/"
        },
        "id": "jXWt-7qQGJxJ",
        "outputId": "7b2f4fdc-2317-467c-fca0-45ad4bec9a9d"
      },
      "execution_count": null,
      "outputs": [
        {
          "output_type": "execute_result",
          "data": {
            "text/plain": [
              "450"
            ]
          },
          "metadata": {},
          "execution_count": 4
        }
      ]
    },
    {
      "cell_type": "code",
      "source": [
        "#Sorted function\n",
        "L=[10,20,50,70,90,30,40,60]\n",
        "sorted(L)"
      ],
      "metadata": {
        "colab": {
          "base_uri": "https://localhost:8080/"
        },
        "id": "WkeErMOfGThy",
        "outputId": "5f07c20a-5ef4-4fc4-d099-6e0d9357e6e4"
      },
      "execution_count": null,
      "outputs": [
        {
          "output_type": "execute_result",
          "data": {
            "text/plain": [
              "[10, 20, 30, 40, 50, 60, 70, 90]"
            ]
          },
          "metadata": {},
          "execution_count": 6
        }
      ]
    },
    {
      "cell_type": "markdown",
      "source": [
        "#'def'\n",
        "Defining a Function using 'def' key word"
      ],
      "metadata": {
        "id": "fQxe1UJ2HcOw"
      }
    },
    {
      "cell_type": "code",
      "source": [
        "#defining a function\n",
        "def greet():\n",
        "  #This is body of the function\n",
        "\n",
        "  print(\"hey have a good day\")\n",
        "\n",
        "  print(greet)\n",
        "\n",
        "  #calling of function\n",
        "  greet()\n",
        "\n"
      ],
      "metadata": {
        "id": "7vd41we8Hr8P"
      },
      "execution_count": null,
      "outputs": []
    },
    {
      "cell_type": "markdown",
      "source": [
        "# def Mult"
      ],
      "metadata": {
        "id": "HcrVB8k1Kx9W"
      }
    },
    {
      "cell_type": "code",
      "source": [
        "#using multiple parameter\n",
        "def Mult(a,b):\n",
        "  c=a*b\n",
        "  return c\n",
        "print(Mult(2,3))\n",
        "print(Mult(2,\"Hi\"))\n"
      ],
      "metadata": {
        "colab": {
          "base_uri": "https://localhost:8080/"
        },
        "id": "TbVzUqRnKY-Q",
        "outputId": "fa57ac2d-304f-4409-8df5-28c0bdd687ba"
      },
      "execution_count": null,
      "outputs": [
        {
          "output_type": "stream",
          "name": "stdout",
          "text": [
            "6\n",
            "HiHi\n"
          ]
        }
      ]
    },
    {
      "cell_type": "code",
      "source": [
        "#defining a function\n",
        "def greet():\n",
        "  #This is body of the function\n",
        "\n",
        "  print(\"hey have a good day\")"
      ],
      "metadata": {
        "id": "627Yo7_JWqGJ"
      },
      "execution_count": null,
      "outputs": []
    },
    {
      "cell_type": "code",
      "source": [
        "greet()"
      ],
      "metadata": {
        "colab": {
          "base_uri": "https://localhost:8080/"
        },
        "id": "9FFD9CMrWsjM",
        "outputId": "f0352005-79e5-449c-f0f5-4ff1c32de4fe"
      },
      "execution_count": null,
      "outputs": [
        {
          "output_type": "stream",
          "name": "stdout",
          "text": [
            "hey have a good day\n"
          ]
        }
      ]
    },
    {
      "cell_type": "markdown",
      "source": [
        "#Parameters Arguments\n",
        "These are place holders in the function.\n",
        "\n",
        "When defining them we called as Parameters.\n",
        "\n",
        "When passing the actual value we call them as Arguments.\n"
      ],
      "metadata": {
        "id": "snsZwa6BXadZ"
      }
    },
    {
      "cell_type": "code",
      "source": [],
      "metadata": {
        "id": "n4w69Usq86GQ"
      },
      "execution_count": null,
      "outputs": []
    }
  ]
}