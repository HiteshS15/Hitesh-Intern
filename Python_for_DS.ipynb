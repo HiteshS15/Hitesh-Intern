{
  "nbformat": 4,
  "nbformat_minor": 0,
  "metadata": {
    "colab": {
      "provenance": [],
      "authorship_tag": "ABX9TyPjjkO3AoJ2l7/BTqTWqH/x",
      "include_colab_link": true
    },
    "kernelspec": {
      "name": "python3",
      "display_name": "Python 3"
    },
    "language_info": {
      "name": "python"
    }
  },
  "cells": [
    {
      "cell_type": "markdown",
      "metadata": {
        "id": "view-in-github",
        "colab_type": "text"
      },
      "source": [
        "<a href=\"https://colab.research.google.com/github/HiteshS15/Hitesh-Intern/blob/main/Python_for_DS.ipynb\" target=\"_parent\"><img src=\"https://colab.research.google.com/assets/colab-badge.svg\" alt=\"Open In Colab\"/></a>"
      ]
    },
    {
      "cell_type": "markdown",
      "source": [
        "\n",
        "#Tuples\n",
        "Tuples are expressed as comma-separated elements within parentheses.\n",
        "\n"
      ],
      "metadata": {
        "id": "0bLdD8Cin63O"
      }
    },
    {
      "cell_type": "code",
      "execution_count": null,
      "metadata": {
        "id": "H3p4cew9TZue"
      },
      "outputs": [],
      "source": [
        "\n",
        "tuple=(1,2,3,4,5,6)"
      ]
    },
    {
      "cell_type": "code",
      "source": [
        "tuple1=(\"hi\",15,5.0)\n",
        "print(tuple1[0])\n",
        "print(tuple1[1])\n",
        "print(tuple1[2])"
      ],
      "metadata": {
        "colab": {
          "base_uri": "https://localhost:8080/"
        },
        "id": "-24z7fO3VvLz",
        "outputId": "dc6304bd-dee9-4ee8-ed24-c5c2a6190fc3"
      },
      "execution_count": null,
      "outputs": [
        {
          "output_type": "stream",
          "name": "stdout",
          "text": [
            "hi\n",
            "15\n",
            "5.0\n"
          ]
        }
      ]
    },
    {
      "cell_type": "markdown",
      "source": [
        "#Lists\n",
        "A list is represented with square brackets.\n",
        "Lists can contain strings, floats, integers.\n"
      ],
      "metadata": {
        "id": "bcPyewYUosjL"
      }
    },
    {
      "cell_type": "code",
      "source": [
        "\n",
        "list=[\"hello\",15,5.0]\n",
        "print(list)\n"
      ],
      "metadata": {
        "colab": {
          "base_uri": "https://localhost:8080/"
        },
        "id": "93pyixbwYi1c",
        "outputId": "93d4755b-f5ad-4e48-b950-fd7b99a8f521"
      },
      "execution_count": null,
      "outputs": [
        {
          "output_type": "stream",
          "name": "stdout",
          "text": [
            "['hello', 15, 5.0]\n"
          ]
        }
      ]
    },
    {
      "cell_type": "code",
      "source": [
        "list=[\"hello\",15,5.0]\n",
        "print(list[0])\n",
        "print(list[1])\n",
        "print(list[2])\n",
        "\n",
        "#slicing in list\n",
        "print(list[0:2])"
      ],
      "metadata": {
        "colab": {
          "base_uri": "https://localhost:8080/"
        },
        "id": "Si5VX7FZZVSB",
        "outputId": "cfac0ace-bd7d-4557-97ee-d6b120fc08d7"
      },
      "execution_count": null,
      "outputs": [
        {
          "output_type": "stream",
          "name": "stdout",
          "text": [
            "hello\n",
            "15\n",
            "5.0\n",
            "['hello', 15]\n"
          ]
        }
      ]
    },
    {
      "cell_type": "code",
      "source": [
        "#List is Mutable we can extend or add the elemnts\n",
        "L=[\"hello\",23,15]\n",
        "L.extend([\"pop\",15])\n",
        "print(L)"
      ],
      "metadata": {
        "colab": {
          "base_uri": "https://localhost:8080/"
        },
        "id": "b7OvP295akv8",
        "outputId": "e7145743-904b-4c04-e057-0f00570818d0"
      },
      "execution_count": null,
      "outputs": [
        {
          "output_type": "stream",
          "name": "stdout",
          "text": [
            "['hello', 23, 15, 'pop', 15]\n"
          ]
        }
      ]
    },
    {
      "cell_type": "code",
      "source": [
        "#delet function in list to delete elements in list\n",
        "L=[\"hello\",23,15]\n",
        "del(L[0])\n",
        "print(L)"
      ],
      "metadata": {
        "colab": {
          "base_uri": "https://localhost:8080/"
        },
        "id": "pkgM57rfciZP",
        "outputId": "fbf68c5d-8771-4860-9df6-8d3987c1b3fc"
      },
      "execution_count": null,
      "outputs": [
        {
          "output_type": "stream",
          "name": "stdout",
          "text": [
            "[23, 15]\n"
          ]
        }
      ]
    },
    {
      "cell_type": "code",
      "source": [
        "# split function in list to splits the element in list\n",
        "L=[\"ABCD\",23,15]\n",
        "\"ABCD\".split(\",\")\n",
        "print(L)\n",
        "\n"
      ],
      "metadata": {
        "colab": {
          "base_uri": "https://localhost:8080/"
        },
        "id": "58R5oty4ee47",
        "outputId": "d350a2eb-4879-42c4-e073-308205b1dffb"
      },
      "execution_count": null,
      "outputs": [
        {
          "output_type": "stream",
          "name": "stdout",
          "text": [
            "['ABCD', 23, 15]\n"
          ]
        }
      ]
    },
    {
      "cell_type": "markdown",
      "source": [
        "\n",
        "#sets\n",
        "sets only contain particular elements only in sets\n",
        "\n",
        "\n",
        "\n"
      ],
      "metadata": {
        "id": "hlr3-hE5pCF2"
      }
    },
    {
      "cell_type": "code",
      "source": [
        "\n",
        "#adding of element in set\n",
        "set={\"hello\",\"Hi\",\"red\",\"blue\"}\n",
        "set.add(\"hitesh\")\n",
        "print(set)"
      ],
      "metadata": {
        "colab": {
          "base_uri": "https://localhost:8080/"
        },
        "id": "IJlJamy_rYvB",
        "outputId": "9a287d3b-cb90-4fcc-8e18-162a2b4041ab"
      },
      "execution_count": null,
      "outputs": [
        {
          "output_type": "stream",
          "name": "stdout",
          "text": [
            "{'Hi', 'blue', 'hello', 'hitesh', 'red'}\n"
          ]
        }
      ]
    },
    {
      "cell_type": "code",
      "source": [
        "#remove method in sets using remove function\n",
        "set={\"hello\",\"Hi\",\"red\",\"blue\"}\n",
        "set.remove(\"hello\")\n",
        "print(set)"
      ],
      "metadata": {
        "colab": {
          "base_uri": "https://localhost:8080/"
        },
        "id": "Iv9k3CBKtdMg",
        "outputId": "21710524-d856-47ae-e067-0d2591e21978"
      },
      "execution_count": null,
      "outputs": [
        {
          "output_type": "stream",
          "name": "stdout",
          "text": [
            "{'red', 'Hi', 'blue'}\n"
          ]
        }
      ]
    },
    {
      "cell_type": "code",
      "source": [
        "#set operations using in\n",
        "set={\"hello\",\"Hi\",\"red\",\"blue\"}\n",
        "print(\"hello\" in set)\n",
        "print(\"hitesh\" in set)"
      ],
      "metadata": {
        "colab": {
          "base_uri": "https://localhost:8080/"
        },
        "id": "WlH5vgu1uD4v",
        "outputId": "009a6e46-d065-4b11-f616-5a44212db403"
      },
      "execution_count": null,
      "outputs": [
        {
          "output_type": "stream",
          "name": "stdout",
          "text": [
            "True\n",
            "False\n"
          ]
        }
      ]
    },
    {
      "cell_type": "markdown",
      "source": [
        "#Dictionaries\n",
        "in this uses curly brackets\n",
        "\n",
        "The keys are the first elements they must in be immutable and unique. Each key is followed by a value separated by colon\n",
        " each keys have seperate values"
      ],
      "metadata": {
        "id": "3Z3Q4TuFpbe6"
      }
    },
    {
      "cell_type": "code",
      "source": [
        "\n",
        "dict1={\"key1\":15,\"key2\":14,\"key3\":13}\n",
        "print(dict1[\"key1\"])\n",
        "print(dict1[\"key2\"])\n",
        "print(dict1[\"key3\"])"
      ],
      "metadata": {
        "colab": {
          "base_uri": "https://localhost:8080/"
        },
        "id": "-qCbUfXKxn4-",
        "outputId": "3f4c5d6a-6f09-48dd-c7f5-ebbde9720454"
      },
      "execution_count": null,
      "outputs": [
        {
          "output_type": "stream",
          "name": "stdout",
          "text": [
            "15\n",
            "14\n",
            "13\n"
          ]
        }
      ]
    },
    {
      "cell_type": "code",
      "source": [
        "#using delete in dictionaries\n",
        "dict1={\"key1\":15,\"key2\":14,\"key3\":13}\n",
        "del(dict1[\"key1\"])\n",
        "del(dict1[\"key2\"])\n",
        "print(dict1[\"key3\"])"
      ],
      "metadata": {
        "colab": {
          "base_uri": "https://localhost:8080/"
        },
        "id": "M1QqQobe0J9f",
        "outputId": "d07a10d1-8062-4ffc-c75a-384303ee9b79"
      },
      "execution_count": null,
      "outputs": [
        {
          "output_type": "stream",
          "name": "stdout",
          "text": [
            "13\n"
          ]
        }
      ]
    },
    {
      "cell_type": "code",
      "source": [
        "# using in method to check in dictionaries\n",
        "dict1={\"key1\":15,\"key2\":14,\"key3\":13}\n",
        "print(\"key1\" in dict1)\n",
        "print(\"key4\" in dict1)"
      ],
      "metadata": {
        "colab": {
          "base_uri": "https://localhost:8080/"
        },
        "id": "KOvWY35V0eVG",
        "outputId": "8ade5e19-cc26-4fa0-9eb5-f029f66328c9"
      },
      "execution_count": null,
      "outputs": [
        {
          "output_type": "stream",
          "name": "stdout",
          "text": [
            "True\n",
            "False\n"
          ]
        }
      ]
    },
    {
      "cell_type": "markdown",
      "source": [
        "#Operators in Python\n",
        "\n",
        "#Arithmetic Operators\n",
        "\n",
        "\n",
        "Addition(+)\n",
        "\n",
        "Subraction(-)\n",
        "\n",
        "Multiplication(*)\n",
        "\n",
        "Division(\\)\n",
        "\n",
        "Modulus(%) : it will give reminder\n",
        "\n",
        "Floor Division(//) : The result is floored to nearst smallest integer\n",
        "\n",
        "Too the power(**) : to the power accepts two values base & value  "
      ],
      "metadata": {
        "id": "plwa2qEwnkbY"
      }
    },
    {
      "cell_type": "code",
      "source": [
        "a=6\n",
        "b=9\n",
        "c=\"Hi\"\n",
        "d=\"how r u\"\n",
        "print(a+b)\n",
        "print(a*b)\n",
        "print(a-b)\n",
        "print(a/b)\n",
        "print(a%b)\n",
        "print(a//b)\n",
        "print(a**b)\n",
        "print(c+d)"
      ],
      "metadata": {
        "colab": {
          "base_uri": "https://localhost:8080/"
        },
        "id": "DAMnYx57p27u",
        "outputId": "6b267f36-d39b-4fc8-b172-3df14b19ca19"
      },
      "execution_count": null,
      "outputs": [
        {
          "output_type": "stream",
          "name": "stdout",
          "text": [
            "15\n",
            "54\n",
            "-3\n",
            "0.6666666666666666\n",
            "6\n",
            "0\n",
            "10077696\n",
            "Hihow r u\n"
          ]
        }
      ]
    },
    {
      "cell_type": "markdown",
      "source": [
        "#Comparision Operators\n",
        "\n",
        "== Equals to\n",
        "\n",
        "!= Not Equals to\n",
        "\n",
        "'>'  Greater than\n",
        "\n",
        "'<'  Lesser Than\n",
        "\n",
        "'>=' Greater than or equal to\n",
        "\n",
        "'<=' Lesser than or equal to"
      ],
      "metadata": {
        "id": "hdVpK7onqeJ1"
      }
    },
    {
      "cell_type": "code",
      "source": [
        "a=6\n",
        "b=9\n",
        "print(a==b)\n",
        "print(a<b)\n",
        "print(a>b)\n",
        "print(a!=b)\n",
        "print(a>=b)\n",
        "print(a<=b)"
      ],
      "metadata": {
        "colab": {
          "base_uri": "https://localhost:8080/"
        },
        "id": "iHjMC57ErLoZ",
        "outputId": "adaea085-c0a9-40a9-d3fc-a6a42e1cd94c"
      },
      "execution_count": null,
      "outputs": [
        {
          "output_type": "stream",
          "name": "stdout",
          "text": [
            "False\n",
            "True\n",
            "False\n",
            "True\n",
            "False\n",
            "True\n"
          ]
        }
      ]
    },
    {
      "cell_type": "markdown",
      "source": [
        "#Assignment Operator\n",
        "\n",
        "=  ,\n",
        " -=  ,\n",
        " +=  ,\n",
        " /=  ,\n",
        " *=  ,"
      ],
      "metadata": {
        "id": "dVKuM4pTrUdX"
      }
    },
    {
      "cell_type": "code",
      "source": [
        "a=6\n",
        "a=a+9\n",
        "print(a)\n",
        "\n",
        "a=a-9\n",
        "print(a)\n",
        "\n",
        "a/=9\n",
        "print(a)\n",
        "\n",
        "a*=9\n",
        "print(a)\n",
        "\n",
        "\n"
      ],
      "metadata": {
        "colab": {
          "base_uri": "https://localhost:8080/"
        },
        "id": "ZyqeDwRZrWfH",
        "outputId": "9b7ebd83-1a73-47cc-cc44-836bb57c296e"
      },
      "execution_count": null,
      "outputs": [
        {
          "output_type": "stream",
          "name": "stdout",
          "text": [
            "15\n",
            "6\n",
            "0.6666666666666666\n",
            "6.0\n"
          ]
        }
      ]
    },
    {
      "cell_type": "markdown",
      "source": [
        "#Logical Operator\n",
        "\n",
        "and , or , not   :   works in boolean values"
      ],
      "metadata": {
        "id": "2fuejR4GrsEf"
      }
    },
    {
      "cell_type": "code",
      "source": [
        "#and\n",
        "print(False & False)\n",
        "print(True & False)\n",
        "print(False & True)\n",
        "print(True  & True)\n",
        "\n",
        "print(2>3 & 2<3)\n",
        "print(6>9 & 9<6)"
      ],
      "metadata": {
        "colab": {
          "base_uri": "https://localhost:8080/"
        },
        "id": "jqsZEntwrvYY",
        "outputId": "261814ae-5b92-44a5-8cf6-e0a5518da709"
      },
      "execution_count": null,
      "outputs": [
        {
          "output_type": "stream",
          "name": "stdout",
          "text": [
            "False\n",
            "False\n",
            "False\n",
            "True\n",
            "False\n",
            "False\n"
          ]
        }
      ]
    },
    {
      "cell_type": "code",
      "source": [
        "#or\n",
        "print(False or False)\n",
        "print(True or False)\n",
        "print(False or True)\n",
        "print(True  or True)\n",
        "\n",
        "print(3>2 or 3<2)\n",
        "print(3>2 or 3>2)\n",
        "print(3<2 or 3<2)"
      ],
      "metadata": {
        "colab": {
          "base_uri": "https://localhost:8080/"
        },
        "id": "TGwDVB9Vr5z9",
        "outputId": "11d05081-5ad5-44e7-9171-91d90d063866"
      },
      "execution_count": null,
      "outputs": [
        {
          "output_type": "stream",
          "name": "stdout",
          "text": [
            "False\n",
            "True\n",
            "True\n",
            "True\n",
            "True\n",
            "True\n",
            "False\n"
          ]
        }
      ]
    },
    {
      "cell_type": "code",
      "source": [
        "#not\n",
        "print(not False)\n",
        "print(not True)\n",
        "\n",
        "print(not(9>6))\n",
        "print(not(9<6))"
      ],
      "metadata": {
        "colab": {
          "base_uri": "https://localhost:8080/"
        },
        "id": "JS08bA65r-41",
        "outputId": "5c99d6a7-0056-4cf7-fe30-ee33671aedbf"
      },
      "execution_count": null,
      "outputs": [
        {
          "output_type": "stream",
          "name": "stdout",
          "text": [
            "True\n",
            "False\n",
            "False\n",
            "True\n"
          ]
        }
      ]
    },
    {
      "cell_type": "markdown",
      "source": [
        "#Special Operator\n",
        "\n",
        "in Operator ,\n",
        "is Operator"
      ],
      "metadata": {
        "id": "tfRXPmmPsFao"
      }
    },
    {
      "cell_type": "code",
      "source": [
        "name = \"Hitu  Hitesh\"\n",
        "\n",
        "print(\"H\" in name)\n",
        "\n",
        "print(\"i\" in name)\n",
        "\n",
        "print(\"utiH\" in name)"
      ],
      "metadata": {
        "colab": {
          "base_uri": "https://localhost:8080/"
        },
        "id": "jFsfVelssI8L",
        "outputId": "46976f83-131b-435d-d247-1014dfd06f58"
      },
      "execution_count": null,
      "outputs": [
        {
          "output_type": "stream",
          "name": "stdout",
          "text": [
            "True\n",
            "True\n",
            "False\n"
          ]
        }
      ]
    },
    {
      "cell_type": "markdown",
      "source": [
        "#Control Statements\n",
        "\n",
        "if ,\n",
        "else ,  \n",
        "elif\n"
      ],
      "metadata": {
        "id": "12T14r1dsV-S"
      }
    },
    {
      "cell_type": "code",
      "source": [
        "#if\n",
        "age = 18\n",
        "if age == 18:\n",
        "      print(\"u r eligible\")"
      ],
      "metadata": {
        "colab": {
          "base_uri": "https://localhost:8080/"
        },
        "id": "MZ3aHhoxsYUi",
        "outputId": "d0be25d6-d08f-4380-8829-8acacc8b75b2"
      },
      "execution_count": null,
      "outputs": [
        {
          "output_type": "stream",
          "name": "stdout",
          "text": [
            "u r eligible\n"
          ]
        }
      ]
    },
    {
      "cell_type": "code",
      "source": [
        "#else\n",
        "age = 18\n",
        "if age == 19:\n",
        "      print(\"u r eligible\")\n",
        "else:\n",
        "      print(\"u r not eligible\")"
      ],
      "metadata": {
        "colab": {
          "base_uri": "https://localhost:8080/"
        },
        "id": "2A2fAcfnslCM",
        "outputId": "2c5dc78a-e408-4e07-dd67-62dce90943e8"
      },
      "execution_count": null,
      "outputs": [
        {
          "output_type": "stream",
          "name": "stdout",
          "text": [
            "u r not eligible\n"
          ]
        }
      ]
    },
    {
      "cell_type": "code",
      "source": [
        "#elif\n",
        "num = int(input())\n",
        "\n",
        "if num > 0:\n",
        "  print(\"positive\")\n",
        "elif num == 0:\n",
        "  print(\"zero\")\n",
        "else:\n",
        "  print(\"Negative\")"
      ],
      "metadata": {
        "colab": {
          "base_uri": "https://localhost:8080/"
        },
        "id": "IbHKYtoBtR2A",
        "outputId": "a66fe751-c12c-48dd-d2b0-9f31cc73a403"
      },
      "execution_count": null,
      "outputs": [
        {
          "output_type": "stream",
          "name": "stdout",
          "text": [
            "9\n",
            "positive\n"
          ]
        }
      ]
    },
    {
      "cell_type": "markdown",
      "source": [
        "#while loop"
      ],
      "metadata": {
        "id": "1z4hdnPnuFi1"
      }
    },
    {
      "cell_type": "code",
      "source": [
        "#defining\n",
        "i = 1\n",
        "#condition\n",
        "while i<=6:\n",
        "  #print statement\n",
        "      print(\"u r the best\")\n",
        "\n",
        "      i=i+1"
      ],
      "metadata": {
        "colab": {
          "base_uri": "https://localhost:8080/"
        },
        "id": "XqCJLz-PuKoA",
        "outputId": "b0d93493-98ae-4d9f-ab9a-1adbde61b99b"
      },
      "execution_count": null,
      "outputs": [
        {
          "output_type": "stream",
          "name": "stdout",
          "text": [
            "u r the best\n",
            "u r the best\n",
            "u r the best\n",
            "u r the best\n",
            "u r the best\n",
            "u r the best\n"
          ]
        }
      ]
    },
    {
      "cell_type": "code",
      "source": [
        "i = 1\n",
        "while i <= 10:\n",
        "      print(i,end=\" , \")\n",
        "      i=i+1"
      ],
      "metadata": {
        "colab": {
          "base_uri": "https://localhost:8080/"
        },
        "id": "QI9mJkSnu2uF",
        "outputId": "1ad4c189-b86d-4c79-e2b8-019351301c81"
      },
      "execution_count": null,
      "outputs": [
        {
          "output_type": "stream",
          "name": "stdout",
          "text": [
            "1 , 2 , 3 , 4 , 5 , 6 , 7 , 8 , 9 , 10 , "
          ]
        }
      ]
    },
    {
      "cell_type": "markdown",
      "source": [
        "Printing even numbers in given range"
      ],
      "metadata": {
        "id": "2ulIpKY7vL4E"
      }
    },
    {
      "cell_type": "code",
      "source": [
        "\n",
        "#initilization\n",
        "i = 1\n",
        "#condition\n",
        "while i <= 10:\n",
        "      #check for even no\n",
        "      if i % 2 == 0:\n",
        "            print(i,end=\" , \")\n",
        "      i=i+1"
      ],
      "metadata": {
        "colab": {
          "base_uri": "https://localhost:8080/"
        },
        "id": "JlQlHpA2vB03",
        "outputId": "7b264e84-ec94-4383-ac93-21c6e2166487"
      },
      "execution_count": null,
      "outputs": [
        {
          "output_type": "stream",
          "name": "stdout",
          "text": [
            "2 , 4 , 6 , 8 , 10 , "
          ]
        }
      ]
    },
    {
      "cell_type": "markdown",
      "source": [
        "#For loop\n",
        "\n",
        "iterator iterable & iterable"
      ],
      "metadata": {
        "id": "fvvnNFW8vcA-"
      }
    },
    {
      "cell_type": "code",
      "source": [
        "# i :iterator\n",
        "# range(): iteratable\n",
        "\n",
        "for i in range(1,11):\n",
        "      print(i, end=\",\")\n"
      ],
      "metadata": {
        "colab": {
          "base_uri": "https://localhost:8080/"
        },
        "id": "mCBmXevdvepb",
        "outputId": "c5b4c7f1-2dda-47b0-e5d7-69623e75d79c"
      },
      "execution_count": null,
      "outputs": [
        {
          "output_type": "stream",
          "name": "stdout",
          "text": [
            "1,2,3,4,5,6,7,8,9,10,"
          ]
        }
      ]
    },
    {
      "cell_type": "markdown",
      "source": [
        "Print multiplication table"
      ],
      "metadata": {
        "id": "20feEqM-vnvB"
      }
    },
    {
      "cell_type": "code",
      "source": [
        "n = int(input())\n",
        "for i in range(1,11):\n",
        "      print(i*n,end=\",\")"
      ],
      "metadata": {
        "colab": {
          "base_uri": "https://localhost:8080/"
        },
        "id": "bzTcd0xjvrVW",
        "outputId": "a6a12325-d56c-409c-f201-61e230372498"
      },
      "execution_count": null,
      "outputs": [
        {
          "output_type": "stream",
          "name": "stdout",
          "text": [
            "7\n",
            "7,14,21,28,35,42,49,56,63,70,"
          ]
        }
      ]
    },
    {
      "cell_type": "markdown",
      "source": [
        "#Break Continue & Pass Statements\n",
        "\n",
        "Break : break the flow of program once this condition is applied\n",
        "\n",
        "Continue : this skips the particular iteration\n",
        "\n",
        "Pass : to avoid syntax error"
      ],
      "metadata": {
        "id": "HeUbY5kxv9eW"
      }
    },
    {
      "cell_type": "code",
      "source": [
        "#pass\n",
        "for i in range(1,11):\n",
        "      pass"
      ],
      "metadata": {
        "id": "TL7fnPpRv_xV"
      },
      "execution_count": null,
      "outputs": []
    },
    {
      "cell_type": "code",
      "source": [
        "#Continue\n",
        "for i in range(1,11):\n",
        "      if i == 5:\n",
        "            continue\n",
        "      print(i,end=\",\")"
      ],
      "metadata": {
        "colab": {
          "base_uri": "https://localhost:8080/"
        },
        "id": "2Hu8STg1wQWe",
        "outputId": "ec53d9c7-803a-4bb4-cb47-1c682cbda219"
      },
      "execution_count": null,
      "outputs": [
        {
          "output_type": "stream",
          "name": "stdout",
          "text": [
            "1,2,3,4,6,7,8,9,10,"
          ]
        }
      ]
    },
    {
      "cell_type": "code",
      "source": [
        "#break\n",
        "for i in range(1,11):\n",
        "      if i == 5:\n",
        "            break\n",
        "      print(i,end=\",\")"
      ],
      "metadata": {
        "colab": {
          "base_uri": "https://localhost:8080/"
        },
        "id": "ZauAQFwswazF",
        "outputId": "6e00700c-c46b-4e3f-d3c3-2dc2d6fa5436"
      },
      "execution_count": null,
      "outputs": [
        {
          "output_type": "stream",
          "name": "stdout",
          "text": [
            "1,2,3,4,"
          ]
        }
      ]
    },
    {
      "cell_type": "markdown",
      "source": [
        "#Functions\n",
        "Functions take some input then produce some output or change.\n",
        "\n",
        "The function is just a piece of code you can reuse."
      ],
      "metadata": {
        "id": "S4jhhToEC3TT"
      }
    },
    {
      "cell_type": "code",
      "source": [
        "#Len Function\n",
        "L=[10,20,30,40,50,60,70,80,90]\n",
        "len(L)"
      ],
      "metadata": {
        "colab": {
          "base_uri": "https://localhost:8080/"
        },
        "id": "buVPMxNVDDaJ",
        "outputId": "3d5300b9-6781-467d-e939-a59a8a3a7e59"
      },
      "execution_count": null,
      "outputs": [
        {
          "output_type": "execute_result",
          "data": {
            "text/plain": [
              "9"
            ]
          },
          "metadata": {},
          "execution_count": 32
        }
      ]
    },
    {
      "cell_type": "code",
      "source": [
        "#sum function\n",
        "L=[10,20,30,40,50,60,70,80,90]\n",
        "sum(L)"
      ],
      "metadata": {
        "colab": {
          "base_uri": "https://localhost:8080/"
        },
        "id": "jXWt-7qQGJxJ",
        "outputId": "7c12fea8-23cc-4ba4-ff45-f34348b6f57d"
      },
      "execution_count": null,
      "outputs": [
        {
          "output_type": "execute_result",
          "data": {
            "text/plain": [
              "450"
            ]
          },
          "metadata": {},
          "execution_count": 33
        }
      ]
    },
    {
      "cell_type": "code",
      "source": [
        "#Sorted function\n",
        "L=[10,20,50,70,90,30,40,60]\n",
        "sorted(L)"
      ],
      "metadata": {
        "colab": {
          "base_uri": "https://localhost:8080/"
        },
        "id": "WkeErMOfGThy",
        "outputId": "7e4cea7e-f63d-402c-f686-7d65258ceb0c"
      },
      "execution_count": null,
      "outputs": [
        {
          "output_type": "execute_result",
          "data": {
            "text/plain": [
              "[10, 20, 30, 40, 50, 60, 70, 90]"
            ]
          },
          "metadata": {},
          "execution_count": 34
        }
      ]
    },
    {
      "cell_type": "markdown",
      "source": [
        "#'def'\n",
        "Defining a Function using 'def' key word"
      ],
      "metadata": {
        "id": "fQxe1UJ2HcOw"
      }
    },
    {
      "cell_type": "code",
      "source": [
        "#defining a function\n",
        "def greet():\n",
        "  #This is body of the function\n",
        "\n",
        "  print(\"hey have a good day\")\n",
        "\n",
        "  print(greet)\n",
        "\n",
        "  #calling of function\n",
        "  greet()\n",
        "\n"
      ],
      "metadata": {
        "id": "7vd41we8Hr8P"
      },
      "execution_count": null,
      "outputs": []
    },
    {
      "cell_type": "markdown",
      "source": [
        "# def Mult"
      ],
      "metadata": {
        "id": "HcrVB8k1Kx9W"
      }
    },
    {
      "cell_type": "code",
      "source": [
        "#using multiple parameter\n",
        "def Mult(a,b):\n",
        "  c=a*b\n",
        "  return c\n",
        "print(Mult(2,3))\n",
        "print(Mult(2,\"Hi\"))\n"
      ],
      "metadata": {
        "colab": {
          "base_uri": "https://localhost:8080/"
        },
        "id": "TbVzUqRnKY-Q",
        "outputId": "7b77f512-0687-4347-9552-048c33b1433f"
      },
      "execution_count": null,
      "outputs": [
        {
          "output_type": "stream",
          "name": "stdout",
          "text": [
            "6\n",
            "HiHi\n"
          ]
        }
      ]
    },
    {
      "cell_type": "code",
      "source": [
        "#defining a function\n",
        "def greet():\n",
        "  #This is body of the function\n",
        "\n",
        "  print(\"hey have a good day\")"
      ],
      "metadata": {
        "id": "627Yo7_JWqGJ"
      },
      "execution_count": null,
      "outputs": []
    },
    {
      "cell_type": "code",
      "source": [
        "greet()"
      ],
      "metadata": {
        "colab": {
          "base_uri": "https://localhost:8080/"
        },
        "id": "9FFD9CMrWsjM",
        "outputId": "c4d98d0f-58ab-46b7-968f-b461feb6048e"
      },
      "execution_count": null,
      "outputs": [
        {
          "output_type": "stream",
          "name": "stdout",
          "text": [
            "hey have a good day\n"
          ]
        }
      ]
    },
    {
      "cell_type": "markdown",
      "source": [
        "#Parameters Arguments\n",
        "These are place holders in the function.\n",
        "\n",
        "When defining them we called as Parameters.\n",
        "\n",
        "When passing the actual value we call them as Arguments.\n"
      ],
      "metadata": {
        "id": "snsZwa6BXadZ"
      }
    },
    {
      "cell_type": "code",
      "source": [
        "def greet(name):\n",
        "  #defining an function\n",
        "\n",
        "  #passing a value\n",
        "  print(\"hey hw r u\",name)"
      ],
      "metadata": {
        "id": "n4w69Usq86GQ"
      },
      "execution_count": null,
      "outputs": []
    },
    {
      "cell_type": "code",
      "source": [
        "#passed argument\n",
        "greet(\"hitesh\")"
      ],
      "metadata": {
        "colab": {
          "base_uri": "https://localhost:8080/"
        },
        "id": "BIJ6AKx_WKTQ",
        "outputId": "fe73a7ad-186a-481b-c028-a9ddd2b20a41"
      },
      "execution_count": null,
      "outputs": [
        {
          "output_type": "stream",
          "name": "stdout",
          "text": [
            "hey hw r u hitesh\n"
          ]
        }
      ]
    },
    {
      "cell_type": "code",
      "source": [
        "def add(a,b):\n",
        "  c=a+b\n",
        "  print(a,b)\n",
        "  add(2,3)\n"
      ],
      "metadata": {
        "id": "D2fzcpNgXYRD"
      },
      "execution_count": null,
      "outputs": []
    },
    {
      "cell_type": "markdown",
      "source": [
        "#Return\n",
        "A function call ends when return statement is executed\n",
        "\n",
        "It returns the expression back to the function\n",
        "\n",
        "the code after the return statement are not executed"
      ],
      "metadata": {
        "id": "NaWCEJGBY9dV"
      }
    },
    {
      "cell_type": "code",
      "source": [
        "def add(a,b):\n",
        "  c=a+b\n",
        "  return c\n"
      ],
      "metadata": {
        "id": "KyO_9NemZmLz"
      },
      "execution_count": null,
      "outputs": []
    },
    {
      "cell_type": "code",
      "source": [
        "c =(3,4)\n",
        "print(c,type(c))"
      ],
      "metadata": {
        "colab": {
          "base_uri": "https://localhost:8080/"
        },
        "id": "M_K9jqJ4cfAo",
        "outputId": "7984065b-13e2-4b07-e352-72d46aeb2d53"
      },
      "execution_count": null,
      "outputs": [
        {
          "output_type": "stream",
          "name": "stdout",
          "text": [
            "(3, 4) <class 'tuple'>\n"
          ]
        }
      ]
    },
    {
      "cell_type": "markdown",
      "source": [
        "#Object & Classes\n"
      ],
      "metadata": {
        "id": "PyhbBPMNkskV"
      }
    },
    {
      "cell_type": "code",
      "source": [
        "type([1,2,3])\n"
      ],
      "metadata": {
        "colab": {
          "base_uri": "https://localhost:8080/"
        },
        "id": "XyL-oXMrmbBF",
        "outputId": "9b200afb-3e34-4321-d7ec-0843e6634e05"
      },
      "execution_count": null,
      "outputs": [
        {
          "output_type": "execute_result",
          "data": {
            "text/plain": [
              "list"
            ]
          },
          "metadata": {},
          "execution_count": 44
        }
      ]
    },
    {
      "cell_type": "code",
      "source": [
        "type(1)"
      ],
      "metadata": {
        "colab": {
          "base_uri": "https://localhost:8080/"
        },
        "id": "NNrA4a2qm_DG",
        "outputId": "41bc0bd5-bdc1-4392-9c6a-a077a21a2533"
      },
      "execution_count": null,
      "outputs": [
        {
          "output_type": "execute_result",
          "data": {
            "text/plain": [
              "int"
            ]
          },
          "metadata": {},
          "execution_count": 45
        }
      ]
    },
    {
      "cell_type": "code",
      "source": [
        "type({2,2,\"a\",1.1})"
      ],
      "metadata": {
        "colab": {
          "base_uri": "https://localhost:8080/"
        },
        "id": "BOGC-QLcnkLL",
        "outputId": "7d0b91fb-d7bf-4b85-e9d0-0f0d19975838"
      },
      "execution_count": null,
      "outputs": [
        {
          "output_type": "execute_result",
          "data": {
            "text/plain": [
              "set"
            ]
          },
          "metadata": {},
          "execution_count": 46
        }
      ]
    },
    {
      "cell_type": "code",
      "source": [
        "type({\"key\":\"hi\",\"key\":\"hi\",\"key\":\"he\"})\n"
      ],
      "metadata": {
        "colab": {
          "base_uri": "https://localhost:8080/"
        },
        "id": "2mcnRZPwn81J",
        "outputId": "95cf4da2-67fc-4443-dfb7-792cae36d558"
      },
      "execution_count": null,
      "outputs": [
        {
          "output_type": "execute_result",
          "data": {
            "text/plain": [
              "dict"
            ]
          },
          "metadata": {},
          "execution_count": 47
        }
      ]
    },
    {
      "cell_type": "markdown",
      "source": [
        "#class\n",
        "its a blue print to create a object.\n",
        "\n",
        "class keyword is used to create a classes."
      ],
      "metadata": {
        "id": "qO9hYLi_yA79"
      }
    },
    {
      "cell_type": "code",
      "source": [
        "class car:\n",
        "  pass"
      ],
      "metadata": {
        "id": "qyAL76H8yFVe"
      },
      "execution_count": null,
      "outputs": []
    },
    {
      "cell_type": "markdown",
      "source": [
        "#object\n",
        "Objects are entities of classes\n"
      ],
      "metadata": {
        "id": "galnjxq23sYg"
      }
    },
    {
      "cell_type": "code",
      "source": [
        "honda = car()\n",
        "type(honda)"
      ],
      "metadata": {
        "colab": {
          "base_uri": "https://localhost:8080/"
        },
        "id": "c5G_Jc_UyX5T",
        "outputId": "7bf34402-97d6-4308-9157-2d71ca60432c"
      },
      "execution_count": null,
      "outputs": [
        {
          "output_type": "execute_result",
          "data": {
            "text/plain": [
              "__main__.car"
            ]
          },
          "metadata": {},
          "execution_count": 49
        }
      ]
    },
    {
      "cell_type": "markdown",
      "source": [
        "#Class Constructor\n",
        "Constructor is special method used to create and initilize an object of class\n",
        "\n",
        "This method is defined in class"
      ],
      "metadata": {
        "id": "PBPKs7Ts3_gh"
      }
    },
    {
      "cell_type": "code",
      "source": [
        "#properties of every human object\n",
        "class Human:\n",
        "  # dunder __\n",
        "  def __init__(self):\n",
        "    print(\"hello hitesh execute\")\n",
        "\n",
        "hitesh = Human()\n",
        "\n",
        "hitu = Human()\n",
        "\n",
        "amma = Human()\n"
      ],
      "metadata": {
        "id": "uiZpnzlq4qM8",
        "colab": {
          "base_uri": "https://localhost:8080/"
        },
        "outputId": "7cf2d833-2459-4fd1-9630-9e9dd9bb4852"
      },
      "execution_count": null,
      "outputs": [
        {
          "output_type": "stream",
          "name": "stdout",
          "text": [
            "hello hitesh execute\n",
            "hello hitesh execute\n",
            "hello hitesh execute\n"
          ]
        }
      ]
    },
    {
      "cell_type": "markdown",
      "source": [
        "#self\n",
        "Is a way for methods within the class to access & manipulate the attributes & data"
      ],
      "metadata": {
        "id": "x4AA8OATxx2r"
      }
    },
    {
      "cell_type": "code",
      "source": [
        "#properties of every human object\n",
        "class Human:\n",
        "  # dunder __\n",
        "  def __init__(self,name,age,hobby):\n",
        "    self.name = name\n",
        "    self.age  = age\n",
        "    self.hobby = hobby\n",
        "    print(\"hello hitesh execute\")\n",
        "\n",
        "hitesh = Human(\"hitu\",22,\"Bike riding\")\n",
        "print(hitesh)\n",
        "print(hitesh.age)\n",
        "print(hitesh.name)\n",
        "print(hitesh.hobby)\n",
        "\n"
      ],
      "metadata": {
        "colab": {
          "base_uri": "https://localhost:8080/"
        },
        "id": "p_f9VSzFub6w",
        "outputId": "3f524f57-e799-475e-d426-b8db2445fee6"
      },
      "execution_count": null,
      "outputs": [
        {
          "output_type": "stream",
          "name": "stdout",
          "text": [
            "hello hitesh execute\n",
            "<__main__.Human object at 0x7a6608343b50>\n",
            "22\n",
            "hitu\n",
            "Bike riding\n"
          ]
        }
      ]
    },
    {
      "cell_type": "markdown",
      "source": [
        "#Class Methods\n",
        "is a part from special methods you can make your custom methods\n",
        "\n",
        "Ex:human can speak , greet."
      ],
      "metadata": {
        "id": "lWETHqPtyNh6"
      }
    },
    {
      "cell_type": "code",
      "source": [
        "class human:\n",
        "  def __init__(self,name,age,hobby):\n",
        "    self.name = name\n",
        "    self.age  = age\n",
        "    self.hobby = hobby\n",
        "    print(\"hello hitesh execute\")\n",
        "\n",
        "\n",
        "  def greet(self):\n",
        "    print(f\"hey my name is {self.name}.Good morning\")\n",
        "\n",
        "class human:\n",
        "  def __init__(self,name,age,hobby):\n",
        "    self.name = name\n",
        "    self.age  = age\n",
        "    self.hobby = hobby\n",
        "    print(\"hello hitesh execute\")\n",
        "\n",
        "\n",
        "  def greet(self):\n",
        "    print(f\"hey my name is {self.name} Good morning\")\n",
        "\n",
        "hitesh = human(\"hitu\",22,\"Bike riding\")\n",
        "\n",
        "hitesh.greet()"
      ],
      "metadata": {
        "colab": {
          "base_uri": "https://localhost:8080/"
        },
        "id": "fvP8mcQoyWOs",
        "outputId": "39d1f7aa-aa67-44ab-b41b-d99645b55837"
      },
      "execution_count": null,
      "outputs": [
        {
          "output_type": "stream",
          "name": "stdout",
          "text": [
            "hello hitesh execute\n",
            "hey my name is hitu Good morning\n"
          ]
        }
      ]
    },
    {
      "cell_type": "code",
      "source": [
        "\n",
        "amma = human(\"amma\",40,\"cooking\")\n",
        "amma.greet()"
      ],
      "metadata": {
        "id": "G78F2EuEkYo7",
        "colab": {
          "base_uri": "https://localhost:8080/"
        },
        "outputId": "d450cd8b-cf81-4341-d5be-01604d0f6dfa"
      },
      "execution_count": null,
      "outputs": [
        {
          "output_type": "stream",
          "name": "stdout",
          "text": [
            "hello hitesh execute\n",
            "hey my name is amma Good morning\n"
          ]
        }
      ]
    },
    {
      "cell_type": "markdown",
      "source": [
        "#Class Variables\n",
        "These are comman to the class\n",
        "\n",
        "Ex:population of human class is common to all subjects"
      ],
      "metadata": {
        "id": "_F4p5Va9KMi0"
      }
    },
    {
      "cell_type": "code",
      "source": [
        "#properties of every human object\n",
        "class Human:\n",
        " #class variable\n",
        "  population = 0\n",
        "  data=[]\n",
        "\n",
        "  def __init__(self,name,age,hobby):\n",
        "    self.name = name\n",
        "    self.age  = age\n",
        "    self.hobby = hobby\n",
        "    #increment population of every new human object\n",
        "    Human.population+=1\n",
        "    Human.data.append(self.name)\n",
        "\n",
        "hitesh = Human(\"hitu\",22,\"Bike riding\")\n",
        "print(hitesh.name)\n",
        "\n",
        "print(hitesh.population)\n",
        "\n",
        "amma = Human(\"amma\",38,\"cooking\")\n",
        "print(amma.name)\n",
        "\n",
        "print(amma.population)\n",
        "\n",
        "print(hitesh.data)\n"
      ],
      "metadata": {
        "colab": {
          "base_uri": "https://localhost:8080/"
        },
        "id": "91w6nWViKmwh",
        "outputId": "d9642259-8d12-40fb-e6b0-33630a780b92"
      },
      "execution_count": null,
      "outputs": [
        {
          "output_type": "stream",
          "name": "stdout",
          "text": [
            "hitu\n",
            "1\n",
            "amma\n",
            "2\n",
            "['hitu', 'amma']\n"
          ]
        }
      ]
    },
    {
      "cell_type": "markdown",
      "source": [
        "#Learning Objectives\n",
        "\n",
        "Learning about:\n",
        "\n",
        "Reading files with open\n",
        "\n",
        "Writing files with open\n",
        "\n",
        "Loading data with Pandas\n",
        "\n",
        "Working with and Saving data with Pandas"
      ],
      "metadata": {
        "id": "um3NWRsyRqjY"
      }
    },
    {
      "cell_type": "markdown",
      "source": [
        "#Reading files with open"
      ],
      "metadata": {
        "id": "NnTlzk0J-N5H"
      }
    },
    {
      "cell_type": "code",
      "source": [
        "\"\"\"\n",
        "example1 = \"example1.txt\"\n",
        "file1 = open(example1, \"r\")\n",
        "\n",
        "# Print the path of file\n",
        "file1.name\n",
        "\n",
        "# Print the mode of file, either 'r' or 'w'\n",
        "file1.mode\n",
        "\n",
        "# Read the file\n",
        "FileContent = file1.read()\n",
        "FileContent\n",
        "\n",
        "# Close file after finish\n",
        "file1.close()\n",
        "\"\"\""
      ],
      "metadata": {
        "id": "PPKajAAkRt0z",
        "colab": {
          "base_uri": "https://localhost:8080/",
          "height": 54
        },
        "outputId": "dd939d42-5203-405f-f642-8111f0a37bf1"
      },
      "execution_count": null,
      "outputs": [
        {
          "output_type": "execute_result",
          "data": {
            "text/plain": [
              "'\\nexample1 = \"example1.txt\"\\nfile1 = open(example1, \"r\")\\n\\n# Print the path of file\\nfile1.name\\n\\n# Print the mode of file, either \\'r\\' or \\'w\\'\\nfile1.mode\\n\\n# Read the file\\nFileContent = file1.read()\\nFileContent\\n\\n# Close file after finish\\nfile1.close()\\n'"
            ],
            "application/vnd.google.colaboratory.intrinsic+json": {
              "type": "string"
            }
          },
          "metadata": {},
          "execution_count": 116
        }
      ]
    },
    {
      "cell_type": "markdown",
      "source": [
        "#Writing files with open\n"
      ],
      "metadata": {
        "id": "A06ALBoB-cMt"
      }
    },
    {
      "cell_type": "code",
      "source": [
        "# Write line to file\n",
        "exmp2 = '/Example2.txt'\n",
        "with open(exmp2, 'w') as writefile:\n",
        "    writefile.write(\"This is line A\")"
      ],
      "metadata": {
        "id": "2ocWQQ0y-UhO"
      },
      "execution_count": null,
      "outputs": []
    },
    {
      "cell_type": "code",
      "source": [
        "# read the file to see if it worked:\n",
        "with open(exmp2, 'r') as testwritefile:\n",
        "    print(testwritefile.read())\n"
      ],
      "metadata": {
        "id": "3sKO9Vq6-a_P",
        "colab": {
          "base_uri": "https://localhost:8080/"
        },
        "outputId": "07ed2b05-a2ab-4d4f-ec4c-472ba48e3ff8"
      },
      "execution_count": null,
      "outputs": [
        {
          "output_type": "stream",
          "name": "stdout",
          "text": [
            "This is line A\n"
          ]
        }
      ]
    },
    {
      "cell_type": "code",
      "source": [
        "# Write multiple lines to file\n",
        "with open(exmp2, 'w') as writefile:\n",
        "    writefile.write(\"This is line A\\n\")\n",
        "    writefile.write(\"This is line B\\n\")"
      ],
      "metadata": {
        "id": "cDk9xvnrE2Xu"
      },
      "execution_count": null,
      "outputs": []
    },
    {
      "cell_type": "code",
      "source": [
        "# Sample list of text\n",
        "Lines = [\"This is line A\\n\", \"This is line B\\n\", \"This is line C\\n\"]\n",
        "Lines"
      ],
      "metadata": {
        "id": "42q03WnRFEJS",
        "colab": {
          "base_uri": "https://localhost:8080/"
        },
        "outputId": "e962be55-0821-4c20-9dbf-a406793e0667"
      },
      "execution_count": null,
      "outputs": [
        {
          "output_type": "execute_result",
          "data": {
            "text/plain": [
              "['This is line A\\n', 'This is line B\\n', 'This is line C\\n']"
            ]
          },
          "metadata": {},
          "execution_count": 60
        }
      ]
    },
    {
      "cell_type": "markdown",
      "source": [
        "# Pandas : Loading Data with pandas\n",
        "It has functions for analyzing, cleaning, exploring, and manipulating data.\n",
        "\n",
        "Pandas allows us to analyze big data\n",
        "\n",
        "Pandas can clean messy data sets, and make them readable and relevant."
      ],
      "metadata": {
        "id": "4zIpowutFv1e"
      }
    },
    {
      "cell_type": "code",
      "source": [
        "\n",
        "#import pandas as pd\n",
        "#csv_path='file1.csv'\n",
        "#df = pd.read_csv(csv_path)"
      ],
      "metadata": {
        "id": "JgDYwNjiF482"
      },
      "execution_count": null,
      "outputs": []
    },
    {
      "cell_type": "code",
      "source": [
        "# accessing datas from data frame\n",
        "#y=df[['a','b','c']]\n",
        "\n",
        "# accessing 1st row 1st column\n",
        "#df.ix[0,0]\n",
        "\n",
        "#df.ix[0:2,0:3]\n"
      ],
      "metadata": {
        "id": "nV8BRNMUFEiu"
      },
      "execution_count": null,
      "outputs": []
    },
    {
      "cell_type": "markdown",
      "source": [
        "# Numpy\n",
        "# working with numpy Arrays & simple APIS\n",
        "Its also has function for working in domain of linear algebra, Fourier transform & Matrices"
      ],
      "metadata": {
        "id": "WDmbV_1NFjzN"
      }
    },
    {
      "cell_type": "code",
      "source": [
        "import numpy as np\n",
        "a=np.array([0,1,2,3,14])\n",
        "\n",
        "print(a[0])\n",
        "\n",
        "print(a[4])\n",
        "\n",
        "print(type(a))\n",
        "\n",
        "print(a.size)\n",
        "\n",
        "# represent the dimension of array\n",
        "print(a.ndim)\n",
        "\n"
      ],
      "metadata": {
        "colab": {
          "base_uri": "https://localhost:8080/"
        },
        "id": "U4dJ9v6NLCyR",
        "outputId": "02c30ece-724d-40af-ec75-e6e169a402d0"
      },
      "execution_count": null,
      "outputs": [
        {
          "output_type": "stream",
          "name": "stdout",
          "text": [
            "0\n",
            "14\n",
            "<class 'numpy.ndarray'>\n",
            "5\n",
            "1\n"
          ]
        }
      ]
    },
    {
      "cell_type": "markdown",
      "source": [
        "# Indexing and Slicing Methods"
      ],
      "metadata": {
        "id": "f8yrQL9hOzkF"
      }
    },
    {
      "cell_type": "code",
      "source": [
        "import numpy as np\n",
        "a=np.array([0,1,2,3,14])\n",
        "\n",
        "c=np.array([1,2,3,4,5])\n",
        "\n",
        "\n",
        "# changing element in array\n",
        "c[0]=100\n",
        "d=c[1:4]"
      ],
      "metadata": {
        "id": "tBcjrHjsO6Vb"
      },
      "execution_count": null,
      "outputs": []
    },
    {
      "cell_type": "code",
      "source": [
        "d"
      ],
      "metadata": {
        "colab": {
          "base_uri": "https://localhost:8080/"
        },
        "id": "jMSL603qJu9L",
        "outputId": "b42690c4-0936-4c42-e937-7325812a8ed9"
      },
      "execution_count": null,
      "outputs": [
        {
          "output_type": "execute_result",
          "data": {
            "text/plain": [
              "array([2, 3, 4])"
            ]
          },
          "metadata": {},
          "execution_count": 71
        }
      ]
    },
    {
      "cell_type": "code",
      "source": [
        "import numpy as np\n",
        "\n",
        "c=np.array([1,2,3,4,5])\n",
        "c[3:5]=300,400\n",
        "print(c)"
      ],
      "metadata": {
        "colab": {
          "base_uri": "https://localhost:8080/"
        },
        "id": "zWTML74uKCtq",
        "outputId": "d0a445d4-eaab-474a-9a1e-86fa5385a40b"
      },
      "execution_count": null,
      "outputs": [
        {
          "output_type": "stream",
          "name": "stdout",
          "text": [
            "[  1   2   3 300 400]\n"
          ]
        }
      ]
    },
    {
      "cell_type": "markdown",
      "source": [
        "#Numpy 1D Array\n",
        "#Basic Operations\n",
        "#vector addition & Subraction"
      ],
      "metadata": {
        "id": "agBKru1-MkYq"
      }
    },
    {
      "cell_type": "code",
      "source": [
        "# vector addition\n",
        "import numpy as np\n",
        "\n",
        "u = np.array([1,0])\n",
        "v = np.array([0,1])\n",
        "z = u+v\n",
        "\n",
        "print(z)"
      ],
      "metadata": {
        "colab": {
          "base_uri": "https://localhost:8080/"
        },
        "id": "HWCHdjkSQPtf",
        "outputId": "c5e6a70e-3ad5-4143-8828-ee9ee6cca8e3"
      },
      "execution_count": null,
      "outputs": [
        {
          "output_type": "stream",
          "name": "stdout",
          "text": [
            "[1 1]\n"
          ]
        }
      ]
    },
    {
      "cell_type": "code",
      "source": [
        "# vector subraction\n",
        "import numpy as np\n",
        "\n",
        "u = np.array([1,0])\n",
        "v = np.array([0,1])\n",
        "z = u-v\n",
        "\n",
        "print(z)"
      ],
      "metadata": {
        "colab": {
          "base_uri": "https://localhost:8080/"
        },
        "id": "7qUU2rshRqkd",
        "outputId": "f9cf37ca-17d9-467c-bebc-2fd0a2239faf"
      },
      "execution_count": null,
      "outputs": [
        {
          "output_type": "stream",
          "name": "stdout",
          "text": [
            "[ 1 -1]\n"
          ]
        }
      ]
    },
    {
      "cell_type": "markdown",
      "source": [
        "#Array Multiplication with scalar"
      ],
      "metadata": {
        "id": "GwPm_qlTSjfr"
      }
    },
    {
      "cell_type": "code",
      "source": [
        "# Vector Multiplication\n",
        "y = np.array([1,2])\n",
        "z = 2*y\n",
        "print(z)"
      ],
      "metadata": {
        "colab": {
          "base_uri": "https://localhost:8080/"
        },
        "id": "NpyjAL2JShvA",
        "outputId": "0c2687e9-3c3b-4eb9-964e-6407e4d2574d"
      },
      "execution_count": null,
      "outputs": [
        {
          "output_type": "stream",
          "name": "stdout",
          "text": [
            "[2 4]\n"
          ]
        }
      ]
    },
    {
      "cell_type": "markdown",
      "source": [
        "# Product of Two Numpy Arrays"
      ],
      "metadata": {
        "id": "3RWdHh6XUuER"
      }
    },
    {
      "cell_type": "code",
      "source": [
        "u = np.array([1,2])\n",
        "v = np.array([3,2])\n",
        "z = u*v\n",
        "print(z)"
      ],
      "metadata": {
        "colab": {
          "base_uri": "https://localhost:8080/"
        },
        "id": "Jd0aajkIU3Vr",
        "outputId": "5aa0d429-3c5b-4bdb-9782-0baab412bc3f"
      },
      "execution_count": null,
      "outputs": [
        {
          "output_type": "stream",
          "name": "stdout",
          "text": [
            "[3 4]\n"
          ]
        }
      ]
    },
    {
      "cell_type": "markdown",
      "source": [
        "#Adding Constant to an Numpy Arrays"
      ],
      "metadata": {
        "id": "oBrkBL4CW636"
      }
    },
    {
      "cell_type": "code",
      "source": [
        "u=np.array([1,2,3,-1])\n",
        "z=u+1\n",
        "print(z)\n"
      ],
      "metadata": {
        "colab": {
          "base_uri": "https://localhost:8080/"
        },
        "id": "mMbV6aPaXC2N",
        "outputId": "ffbda299-b625-473e-c67e-b6e115287174"
      },
      "execution_count": null,
      "outputs": [
        {
          "output_type": "stream",
          "name": "stdout",
          "text": [
            "[2 3 4 0]\n"
          ]
        }
      ]
    },
    {
      "cell_type": "markdown",
      "source": [
        "# Universal Functions"
      ],
      "metadata": {
        "id": "dmit-do_Xhte"
      }
    },
    {
      "cell_type": "code",
      "source": [
        "# Finding Mean Value in Array\n",
        "a = np.array([1,-1,1,-1])\n",
        "mean = a.mean()\n",
        "print(mean)"
      ],
      "metadata": {
        "colab": {
          "base_uri": "https://localhost:8080/"
        },
        "id": "ZoI6PwPRXrGj",
        "outputId": "81712fc9-12b7-4166-f53d-6d4b2cc05d89"
      },
      "execution_count": null,
      "outputs": [
        {
          "output_type": "stream",
          "name": "stdout",
          "text": [
            "0.0\n"
          ]
        }
      ]
    },
    {
      "cell_type": "code",
      "source": [
        "# Finding Max Value in Array\n",
        "a = np.array([10,-1,1,-4])\n",
        "max = a.max()\n",
        "print(max)"
      ],
      "metadata": {
        "colab": {
          "base_uri": "https://localhost:8080/"
        },
        "id": "qBt4gOhHXzTS",
        "outputId": "57e9625e-7051-466a-f38c-2c08ac24d72e"
      },
      "execution_count": null,
      "outputs": [
        {
          "output_type": "stream",
          "name": "stdout",
          "text": [
            "10\n"
          ]
        }
      ]
    },
    {
      "cell_type": "markdown",
      "source": [
        "#Pi function"
      ],
      "metadata": {
        "id": "SQ924XVVY-ZK"
      }
    },
    {
      "cell_type": "code",
      "source": [
        "# Pi\n",
        "a = np.array([0,np.pi/2,np.pi])\n",
        "print(a)"
      ],
      "metadata": {
        "colab": {
          "base_uri": "https://localhost:8080/"
        },
        "id": "p5nPQheCZjWV",
        "outputId": "36c9ec90-2b7b-48ae-a41a-c8f75ef09b03"
      },
      "execution_count": null,
      "outputs": [
        {
          "output_type": "stream",
          "name": "stdout",
          "text": [
            "[0.         1.57079633 3.14159265]\n"
          ]
        }
      ]
    },
    {
      "cell_type": "markdown",
      "source": [
        "# Sin Function"
      ],
      "metadata": {
        "id": "3IFvmzJ0arLk"
      }
    },
    {
      "cell_type": "code",
      "source": [
        "# sin\n",
        "b = np.sin(a)\n",
        "print(b)"
      ],
      "metadata": {
        "colab": {
          "base_uri": "https://localhost:8080/"
        },
        "id": "TvfwaYGAZ6Sn",
        "outputId": "79625395-aa7a-4b96-8aec-1cb5d0f1f707"
      },
      "execution_count": null,
      "outputs": [
        {
          "output_type": "stream",
          "name": "stdout",
          "text": [
            "[0.0000000e+00 1.0000000e+00 1.2246468e-16]\n"
          ]
        }
      ]
    },
    {
      "cell_type": "markdown",
      "source": [
        "# line Space Function"
      ],
      "metadata": {
        "id": "h7ZnFfmibqoZ"
      }
    },
    {
      "cell_type": "code",
      "source": [
        "c = np.linspace(-2,2,num=5)\n",
        "c"
      ],
      "metadata": {
        "colab": {
          "base_uri": "https://localhost:8080/"
        },
        "id": "niz0HkQ9b2h3",
        "outputId": "7477551a-0c3d-4769-8d3c-70894691a2d7"
      },
      "execution_count": null,
      "outputs": [
        {
          "output_type": "execute_result",
          "data": {
            "text/plain": [
              "array([-2., -1.,  0.,  1.,  2.])"
            ]
          },
          "metadata": {},
          "execution_count": 113
        }
      ]
    },
    {
      "cell_type": "markdown",
      "source": [
        "# Plotting Mathematical Functions"
      ],
      "metadata": {
        "id": "sBFUUfvVcg8K"
      }
    },
    {
      "cell_type": "code",
      "source": [
        "x = np.linspace(0,2*np.pi,100)\n",
        "y = np.sin(x)\n",
        "\n",
        "import matplotlib.pyplot as plt\n",
        "plt.plot(x,y)"
      ],
      "metadata": {
        "colab": {
          "base_uri": "https://localhost:8080/",
          "height": 448
        },
        "id": "Rp5zvz1icnm3",
        "outputId": "eab1f976-72f2-45bd-dafc-afb554f692d8"
      },
      "execution_count": null,
      "outputs": [
        {
          "output_type": "execute_result",
          "data": {
            "text/plain": [
              "[<matplotlib.lines.Line2D at 0x7a65d8110190>]"
            ]
          },
          "metadata": {},
          "execution_count": 114
        },
        {
          "output_type": "display_data",
          "data": {
            "text/plain": [
              "<Figure size 640x480 with 1 Axes>"
            ],
            "image/png": "[encoded data removed]"
          },
          "metadata": {}
        }
      ]
    },
    {
      "cell_type": "markdown",
      "source": [
        "#Numpy in 2D Arrays\n",
        "Array Creation in 2D\n",
        "\n",
        "Indexing & Slicing in 2D\n",
        "\n",
        "Basic Operation in 2D"
      ],
      "metadata": {
        "id": "NJukaXZ7iflI"
      }
    },
    {
      "cell_type": "code",
      "source": [
        "#Array Creation in 2D\n",
        "a = [[11,12,13],[21,22,23],[31,32,33]]\n",
        "A = np.array(a)\n",
        "print(A)"
      ],
      "metadata": {
        "colab": {
          "base_uri": "https://localhost:8080/"
        },
        "id": "sIlxPshfilRg",
        "outputId": "9722bf6c-c679-4551-a4a7-86d69052ecdd"
      },
      "execution_count": null,
      "outputs": [
        {
          "output_type": "stream",
          "name": "stdout",
          "text": [
            "[[11 12 13]\n",
            " [21 22 23]\n",
            " [31 32 33]]\n"
          ]
        }
      ]
    },
    {
      "cell_type": "code",
      "source": [
        "a = [[11,12,13],[21,22,23],[31,32,33]]\n",
        "A = np.array(a)\n",
        "\n",
        "print(A)\n",
        "print(A.ndim)\n",
        "print(A.shape)\n",
        "print(A.size)\n"
      ],
      "metadata": {
        "colab": {
          "base_uri": "https://localhost:8080/"
        },
        "id": "wyiq9gQKkMbv",
        "outputId": "cae690b9-9fe3-45cf-e18e-93216ac56586"
      },
      "execution_count": null,
      "outputs": [
        {
          "output_type": "stream",
          "name": "stdout",
          "text": [
            "[[11 12 13]\n",
            " [21 22 23]\n",
            " [31 32 33]]\n",
            "2\n",
            "(3, 3)\n",
            "9\n"
          ]
        }
      ]
    },
    {
      "cell_type": "code",
      "source": [
        "# Adding Arrays\n",
        "X = np.array([[1,0],[0,1]])\n",
        "Y = np.array([[2,1],[1,2]])\n",
        "Z = X+Y\n",
        "print(Z)"
      ],
      "metadata": {
        "id": "p0LpJV_RloIg",
        "colab": {
          "base_uri": "https://localhost:8080/"
        },
        "outputId": "619df10d-7083-46cc-d3a5-2ed9ffc7abc9"
      },
      "execution_count": null,
      "outputs": [
        {
          "output_type": "stream",
          "name": "stdout",
          "text": [
            "[[3 1]\n",
            " [1 3]]\n"
          ]
        }
      ]
    },
    {
      "cell_type": "code",
      "source": [
        "# Multiplication in Arrays\n",
        "y = np.array([[2,1],[1,2]])\n",
        "z = 2*y\n",
        "print(z)"
      ],
      "metadata": {
        "colab": {
          "base_uri": "https://localhost:8080/"
        },
        "id": "SfrIm4T3nP77",
        "outputId": "2e56fa38-86f5-4a13-e1f3-9bf54efc5c3e"
      },
      "execution_count": null,
      "outputs": [
        {
          "output_type": "stream",
          "name": "stdout",
          "text": [
            "[[4 2]\n",
            " [2 4]]\n"
          ]
        }
      ]
    },
    {
      "cell_type": "code",
      "source": [
        "# Product of 2 Arrays\n",
        "x = np.array([[1,0],[0,1]])\n",
        "y = np.array([[2,1],[1,2]])\n",
        "z = x*y\n",
        "print(z)"
      ],
      "metadata": {
        "colab": {
          "base_uri": "https://localhost:8080/"
        },
        "id": "DHWI-RednkUE",
        "outputId": "8d30c8d1-1cc4-42da-c65d-2a6a2ea1f447"
      },
      "execution_count": null,
      "outputs": [
        {
          "output_type": "stream",
          "name": "stdout",
          "text": [
            "[[2 0]\n",
            " [0 2]]\n"
          ]
        }
      ]
    },
    {
      "cell_type": "code",
      "source": [
        "# Matrix Multiplication\n",
        "A = np.array([[0,1,1],[1,0,1]])\n",
        "B = np.array([[1,1],[1,1],[-1,1]])\n",
        "C = np.dot(A,B)\n",
        "print(C)"
      ],
      "metadata": {
        "colab": {
          "base_uri": "https://localhost:8080/"
        },
        "id": "0mihUMHDoSxP",
        "outputId": "36060588-698a-48dd-b851-b3e6ca758d13"
      },
      "execution_count": null,
      "outputs": [
        {
          "output_type": "stream",
          "name": "stdout",
          "text": [
            "[[0 2]\n",
            " [0 2]]\n"
          ]
        }
      ]
    },
    {
      "cell_type": "markdown",
      "source": [
        "#API"
      ],
      "metadata": {
        "id": "QSqKmHpnFmeC"
      }
    },
    {
      "cell_type": "code",
      "source": [
        "import pandas as pd\n",
        "dict_ = {'a':[11,21,31],'b':[12,22,312]}\n",
        "df = pd.DataFrame(dict_)\n",
        "\n",
        "print(df.head())\n",
        "print(df.mean())"
      ],
      "metadata": {
        "colab": {
          "base_uri": "https://localhost:8080/"
        },
        "id": "EkqFi0hmGDPh",
        "outputId": "9a4d16bf-36f0-4f71-a909-47d6662a9196"
      },
      "execution_count": null,
      "outputs": [
        {
          "output_type": "stream",
          "name": "stdout",
          "text": [
            "    a    b\n",
            "0  11   12\n",
            "1  21   22\n",
            "2  31  312\n",
            "a     21.000000\n",
            "b    115.333333\n",
            "dtype: float64\n"
          ]
        }
      ]
    },
    {
      "cell_type": "markdown",
      "source": [
        "# REST API"
      ],
      "metadata": {
        "id": "FnJULawPJbGD"
      }
    },
    {
      "cell_type": "code",
      "source": [
        "#Ex:nba api\n",
        "from nba_api.stats.static import teams\n",
        "nba_teams = teams.get_teams()\n",
        "nba_teams[:5]"
      ],
      "metadata": {
        "colab": {
          "base_uri": "https://localhost:8080/"
        },
        "id": "HVTpmKlUJgVc",
        "outputId": "464b563f-4c8a-4873-ab8c-513b63a4d0a2"
      },
      "execution_count": null,
      "outputs": [
        {
          "output_type": "execute_result",
          "data": {
            "text/plain": [
              "[{'id': 1610612737,\n",
              "  'full_name': 'Atlanta Hawks',\n",
              "  'abbreviation': 'ATL',\n",
              "  'nickname': 'Hawks',\n",
              "  'city': 'Atlanta',\n",
              "  'state': 'Georgia',\n",
              "  'year_founded': 1949},\n",
              " {'id': 1610612738,\n",
              "  'full_name': 'Boston Celtics',\n",
              "  'abbreviation': 'BOS',\n",
              "  'nickname': 'Celtics',\n",
              "  'city': 'Boston',\n",
              "  'state': 'Massachusetts',\n",
              "  'year_founded': 1946},\n",
              " {'id': 1610612739,\n",
              "  'full_name': 'Cleveland Cavaliers',\n",
              "  'abbreviation': 'CLE',\n",
              "  'nickname': 'Cavaliers',\n",
              "  'city': 'Cleveland',\n",
              "  'state': 'Ohio',\n",
              "  'year_founded': 1970},\n",
              " {'id': 1610612740,\n",
              "  'full_name': 'New Orleans Pelicans',\n",
              "  'abbreviation': 'NOP',\n",
              "  'nickname': 'Pelicans',\n",
              "  'city': 'New Orleans',\n",
              "  'state': 'Louisiana',\n",
              "  'year_founded': 2002},\n",
              " {'id': 1610612741,\n",
              "  'full_name': 'Chicago Bulls',\n",
              "  'abbreviation': 'CHI',\n",
              "  'nickname': 'Bulls',\n",
              "  'city': 'Chicago',\n",
              "  'state': 'Illinois',\n",
              "  'year_founded': 1966}]"
            ]
          },
          "metadata": {},
          "execution_count": 13
        }
      ]
    },
    {
      "cell_type": "markdown",
      "source": [
        "#API PART 2\n",
        "API Keys & End points\n",
        "\n",
        "Watson Speech to text\n",
        "\n",
        "Watson Translate"
      ],
      "metadata": {
        "id": "0xwyeS3lK4AG"
      }
    },
    {
      "cell_type": "code",
      "source": [
        "from ibm_watson import SpeechToTextV1"
      ],
      "metadata": {
        "id": "2E2nfWc9LuJ9"
      },
      "execution_count": null,
      "outputs": []
    }
  ]
}